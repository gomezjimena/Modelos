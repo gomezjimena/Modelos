{
  "nbformat": 4,
  "nbformat_minor": 0,
  "metadata": {
    "colab": {
      "provenance": [],
      "collapsed_sections": [
        "uGcumXd7IrU6",
        "zoONzHfSIdBz",
        "d99IFBRkIYqA",
        "G54jJe9WHltS"
      ]
    },
    "kernelspec": {
      "name": "python3",
      "display_name": "Python 3"
    },
    "language_info": {
      "name": "python"
    }
  },
  "cells": [
    {
      "cell_type": "markdown",
      "source": [
        "##Carga de datos"
      ],
      "metadata": {
        "id": "uMTb822w9xXv"
      }
    },
    {
      "cell_type": "code",
      "source": [
        "!wget --no-cache -O init.py -q https://raw.githubusercontent.com/rramosp/ai4eng.v1/main/content/init.py\n",
        "import init; init.init(force_download=False); init.get_weblink()"
      ],
      "metadata": {
        "colab": {
          "base_uri": "https://localhost:8080/",
          "height": 58
        },
        "id": "XmfWGSNP-PRf",
        "outputId": "48bcc1ac-13b3-459d-d1d9-85a0f8645c04"
      },
      "execution_count": 21,
      "outputs": [
        {
          "output_type": "display_data",
          "data": {
            "text/plain": [
              "<IPython.core.display.HTML object>"
            ],
            "text/html": [
              "\n",
              "<meta name=\"google-signin-client_id\"\n",
              "      content=\"461673936472-kdjosv61up3ac1ajeuq6qqu72upilmls.apps.googleusercontent.com\"/>\n",
              "<script src=\"https://apis.google.com/js/client:platform.js?onload=google_button_start\"></script>\n",
              "    "
            ]
          },
          "metadata": {}
        },
        {
          "output_type": "execute_result",
          "data": {
            "text/plain": [
              "<IPython.core.display.HTML object>"
            ],
            "text/html": [
              "<h3>See <a href='https://m5knaekxo6.execute-api.us-west-2.amazonaws.com/dev-v0001/rlxmooc/web/login' target='_blank'>my courses and progress</a></h2>"
            ]
          },
          "metadata": {},
          "execution_count": 21
        }
      ]
    },
    {
      "cell_type": "code",
      "source": [
        "# Cargar los datos desde el computador\n",
        "from google.colab import files\n",
        "uploaded = files.upload()\n"
      ],
      "metadata": {
        "id": "zSO3WwREtPIn"
      },
      "execution_count": null,
      "outputs": []
    },
    {
      "cell_type": "code",
      "source": [
        "import pandas as pd\n",
        "\n",
        "train = pd.read_csv(\"train.csv\")\n",
        "train.head()\n"
      ],
      "metadata": {
        "id": "WLy_FmcetV2D"
      },
      "execution_count": null,
      "outputs": []
    },
    {
      "cell_type": "markdown",
      "source": [
        "#Dimensiones\n",
        "\n",
        "\n"
      ],
      "metadata": {
        "id": "uGcumXd7IrU6"
      }
    },
    {
      "cell_type": "code",
      "source": [
        "print(train.shape)\n"
      ],
      "metadata": {
        "colab": {
          "base_uri": "https://localhost:8080/"
        },
        "id": "tn9953pvBAv9",
        "outputId": "94274fab-d96f-4a01-89ff-90521f2aa93b"
      },
      "execution_count": 14,
      "outputs": [
        {
          "output_type": "stream",
          "name": "stdout",
          "text": [
            "(692500, 21)\n"
          ]
        }
      ]
    },
    {
      "cell_type": "markdown",
      "source": [
        "#Información general"
      ],
      "metadata": {
        "id": "zoONzHfSIdBz"
      }
    },
    {
      "cell_type": "code",
      "source": [
        "print(train.info())"
      ],
      "metadata": {
        "id": "QNvS67kWCyW3"
      },
      "execution_count": null,
      "outputs": []
    },
    {
      "cell_type": "markdown",
      "source": [
        "#Distribución de una columna (Periodo academico)"
      ],
      "metadata": {
        "id": "d99IFBRkIYqA"
      }
    },
    {
      "cell_type": "code",
      "source": [
        "print(train['PERIODO_ACADEMICO'].value_counts())\n"
      ],
      "metadata": {
        "id": "qjk4rRE_HYZ9"
      },
      "execution_count": null,
      "outputs": []
    },
    {
      "cell_type": "markdown",
      "source": [
        "#Gráfico simple de horas a la semana que trabaja\n"
      ],
      "metadata": {
        "id": "G54jJe9WHltS"
      }
    },
    {
      "cell_type": "code",
      "source": [
        "import matplotlib.pyplot as plt\n",
        "\n",
        "train['E_HORASSEMANATRABAJA'].value_counts().plot(kind='bar')\n",
        "plt.title(\"Número de estudiantes \")\n",
        "plt.show()"
      ],
      "metadata": {
        "id": "dUdwCCw3Hm54"
      },
      "execution_count": null,
      "outputs": []
    }
  ]
}